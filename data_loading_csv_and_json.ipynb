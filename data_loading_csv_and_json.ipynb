{
  "nbformat": 4,
  "nbformat_minor": 0,
  "metadata": {
    "colab": {
      "private_outputs": true,
      "provenance": [],
      "authorship_tag": "ABX9TyP2y8Y0RuqFJYh0va0nIEtg",
      "include_colab_link": true
    },
    "kernelspec": {
      "name": "python3",
      "display_name": "Python 3"
    },
    "language_info": {
      "name": "python"
    }
  },
  "cells": [
    {
      "cell_type": "markdown",
      "metadata": {
        "id": "view-in-github",
        "colab_type": "text"
      },
      "source": [
        "<a href=\"https://colab.research.google.com/github/Kenjagi20000/Githubtask/blob/main/data_loading_csv_and_json.ipynb\" target=\"_parent\"><img src=\"https://colab.research.google.com/assets/colab-badge.svg\" alt=\"Open In Colab\"/></a>"
      ]
    },
    {
      "cell_type": "code",
      "execution_count": null,
      "metadata": {
        "id": "ZeUo2Xy4TZtg"
      },
      "outputs": [],
      "source": []
    },
    {
      "cell_type": "code",
      "source": [
        "import pandas as pd\n",
        "import json\n",
        "jfile = open(\"/content/sample_data/anscombe.json\", \"r\")\n",
        "jread = jfile.read()\n",
        "jload = json.loads(jread)\n",
        "df1 = pd.DataFrame.from_dict(jload)\n",
        "df1.shape"
      ],
      "metadata": {
        "id": "ofVeVLWMUIKX"
      },
      "execution_count": null,
      "outputs": []
    },
    {
      "cell_type": "code",
      "source": [
        "df1.info()"
      ],
      "metadata": {
        "id": "7GN9Sb18UrWs"
      },
      "execution_count": null,
      "outputs": []
    },
    {
      "cell_type": "code",
      "source": [
        "df1.head(10)"
      ],
      "metadata": {
        "id": "mTTXdmyqUltN"
      },
      "execution_count": null,
      "outputs": []
    },
    {
      "cell_type": "code",
      "source": [
        "df1.plot()"
      ],
      "metadata": {
        "id": "wawMlwlgXhcm"
      },
      "execution_count": null,
      "outputs": []
    },
    {
      "cell_type": "code",
      "source": [
        "import pandas as pd\n",
        "df2 = pd.read_csv(\"/content/sample_data/california_housing_train.csv\")\n",
        "df2.shape"
      ],
      "metadata": {
        "id": "iFS36mkpXwUb"
      },
      "execution_count": null,
      "outputs": []
    },
    {
      "cell_type": "code",
      "source": [
        "df2.info()"
      ],
      "metadata": {
        "id": "Fk_UryN7X7TK"
      },
      "execution_count": null,
      "outputs": []
    },
    {
      "cell_type": "code",
      "source": [
        "df3 = pd.read_csv(\"/content/sample_data/california_housing_test.csv\")\n",
        "df3.shape"
      ],
      "metadata": {
        "id": "DCk5xJrMYFvN"
      },
      "execution_count": null,
      "outputs": []
    },
    {
      "cell_type": "code",
      "source": [
        "df3.info()"
      ],
      "metadata": {
        "id": "skaVkgVOYSi-"
      },
      "execution_count": null,
      "outputs": []
    },
    {
      "cell_type": "code",
      "source": [
        "new_df = pd.concat([df2, df3])\n",
        "new_df.shape"
      ],
      "metadata": {
        "id": "c-k4mFbxYk2T"
      },
      "execution_count": null,
      "outputs": []
    },
    {
      "cell_type": "code",
      "source": [
        "new_df.head()"
      ],
      "metadata": {
        "id": "p-cnMbR-ZUob"
      },
      "execution_count": null,
      "outputs": []
    },
    {
      "cell_type": "code",
      "source": [
        "# mean of all the columns\n",
        "new_df.mean()"
      ],
      "metadata": {
        "id": "cKebV4qjZj-g"
      },
      "execution_count": null,
      "outputs": []
    },
    {
      "cell_type": "code",
      "source": [
        "# variance\n",
        "new_df.var()"
      ],
      "metadata": {
        "id": "_uS72metaHyK"
      },
      "execution_count": null,
      "outputs": []
    },
    {
      "cell_type": "code",
      "source": [
        "#trimmed variance\n",
        "import pandas as pd\n",
        "import numpy as np\n",
        "from scipy import stats\n",
        "stats.mstats.trimmed_var(new_df[\"total_rooms\"])"
      ],
      "metadata": {
        "id": "MsqRPbIiaW3o"
      },
      "execution_count": null,
      "outputs": []
    }
  ]
}